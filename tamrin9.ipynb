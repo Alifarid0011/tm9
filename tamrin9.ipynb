{
 "cells": [
  {
   "cell_type": "code",
   "execution_count": 224,
   "metadata": {
    "collapsed": true
   },
   "outputs": [],
   "source": [
    "import numpy as np\n",
    "import pandas as pd\n",
    "from mlxtend.frequent_patterns import apriori, association_rules\n",
    "from faker import Faker"
   ]
  },
  {
   "cell_type": "markdown",
   "source": [],
   "metadata": {
    "collapsed": false
   }
  },
  {
   "cell_type": "code",
   "execution_count": 267,
   "outputs": [],
   "source": [
    "\n",
    "def make_dataset(objects, count):\n",
    "    fake = Faker()\n",
    "    ar = [[fake.boolean(chance_of_getting_true=68) for _ in objects] for _ in range(count)]\n",
    "    # ar = [[np.random.choice([name, np.nan], size=1, p=[0.7, 0.3]).item(0) for name in objects] for _ in range(10)]\n",
    "    df = pd.DataFrame(ar,columns=objects)\n",
    "    # df = dataframe.transpose()\n",
    "    # max_number_of_nas = 3\n",
    "    # df = df.loc[:, (df.isnull().sum(axis=0) <= max_number_of_nas)]\n",
    "    # df = df.transpose()\n",
    "    # df = df.fillna(value=np.nan)\n",
    "    return df\n"
   ],
   "metadata": {
    "collapsed": false,
    "pycharm": {
     "name": "#%%\n"
    }
   }
  },
  {
   "cell_type": "code",
   "execution_count": 268,
   "outputs": [],
   "source": [
    "objects = [\"Milk\", \"Icecream\", \"Chips\", \"Bread\", \"Tea\"]"
   ],
   "metadata": {
    "collapsed": false,
    "pycharm": {
     "name": "#%%\n"
    }
   }
  },
  {
   "cell_type": "code",
   "execution_count": 269,
   "outputs": [
    {
     "data": {
      "text/plain": "    Milk  Icecream  Chips  Bread    Tea\n0  False      True   True  False   True\n1   True      True   True   True   True\n2   True      True  False  False   True\n3  False      True   True   True  False\n4  False      True   True   True   True\n5  False     False   True   True   True\n6  False      True  False  False  False\n7   True     False  False  False   True\n8  False      True   True   True   True\n9   True      True   True   True   True",
      "text/html": "<div>\n<style scoped>\n    .dataframe tbody tr th:only-of-type {\n        vertical-align: middle;\n    }\n\n    .dataframe tbody tr th {\n        vertical-align: top;\n    }\n\n    .dataframe thead th {\n        text-align: right;\n    }\n</style>\n<table border=\"1\" class=\"dataframe\">\n  <thead>\n    <tr style=\"text-align: right;\">\n      <th></th>\n      <th>Milk</th>\n      <th>Icecream</th>\n      <th>Chips</th>\n      <th>Bread</th>\n      <th>Tea</th>\n    </tr>\n  </thead>\n  <tbody>\n    <tr>\n      <th>0</th>\n      <td>False</td>\n      <td>True</td>\n      <td>True</td>\n      <td>False</td>\n      <td>True</td>\n    </tr>\n    <tr>\n      <th>1</th>\n      <td>True</td>\n      <td>True</td>\n      <td>True</td>\n      <td>True</td>\n      <td>True</td>\n    </tr>\n    <tr>\n      <th>2</th>\n      <td>True</td>\n      <td>True</td>\n      <td>False</td>\n      <td>False</td>\n      <td>True</td>\n    </tr>\n    <tr>\n      <th>3</th>\n      <td>False</td>\n      <td>True</td>\n      <td>True</td>\n      <td>True</td>\n      <td>False</td>\n    </tr>\n    <tr>\n      <th>4</th>\n      <td>False</td>\n      <td>True</td>\n      <td>True</td>\n      <td>True</td>\n      <td>True</td>\n    </tr>\n    <tr>\n      <th>5</th>\n      <td>False</td>\n      <td>False</td>\n      <td>True</td>\n      <td>True</td>\n      <td>True</td>\n    </tr>\n    <tr>\n      <th>6</th>\n      <td>False</td>\n      <td>True</td>\n      <td>False</td>\n      <td>False</td>\n      <td>False</td>\n    </tr>\n    <tr>\n      <th>7</th>\n      <td>True</td>\n      <td>False</td>\n      <td>False</td>\n      <td>False</td>\n      <td>True</td>\n    </tr>\n    <tr>\n      <th>8</th>\n      <td>False</td>\n      <td>True</td>\n      <td>True</td>\n      <td>True</td>\n      <td>True</td>\n    </tr>\n    <tr>\n      <th>9</th>\n      <td>True</td>\n      <td>True</td>\n      <td>True</td>\n      <td>True</td>\n      <td>True</td>\n    </tr>\n  </tbody>\n</table>\n</div>"
     },
     "execution_count": 269,
     "metadata": {},
     "output_type": "execute_result"
    }
   ],
   "source": [
    "dataFrame=make_dataset(objects=objects,count=10)\n",
    "dataFrame"
   ],
   "metadata": {
    "collapsed": false,
    "pycharm": {
     "name": "#%%\n"
    }
   }
  },
  {
   "cell_type": "code",
   "execution_count": 270,
   "outputs": [],
   "source": [
    "# records = []\n",
    "# for i in range(make_dataset(objects=objects).shape[0]):\n",
    "#     records.append(\n",
    "#         [str(make_dataset(objects=objects).values[i, j]) for j in range(make_dataset(objects=objects).shape[1])])"
   ],
   "metadata": {
    "collapsed": false,
    "pycharm": {
     "name": "#%%\n"
    }
   }
  },
  {
   "cell_type": "markdown",
   "source": [],
   "metadata": {
    "collapsed": false
   }
  },
  {
   "cell_type": "code",
   "execution_count": 271,
   "outputs": [
    {
     "data": {
      "text/plain": "    support                  itemsets\n0       0.8                (Icecream)\n1       0.7                   (Chips)\n2       0.6                   (Bread)\n3       0.8                     (Tea)\n4       0.6         (Chips, Icecream)\n5       0.5         (Bread, Icecream)\n6       0.6           (Tea, Icecream)\n7       0.6            (Bread, Chips)\n8       0.6              (Chips, Tea)\n9       0.5              (Bread, Tea)\n10      0.5  (Bread, Chips, Icecream)\n11      0.5    (Tea, Chips, Icecream)\n12      0.5       (Bread, Chips, Tea)",
      "text/html": "<div>\n<style scoped>\n    .dataframe tbody tr th:only-of-type {\n        vertical-align: middle;\n    }\n\n    .dataframe tbody tr th {\n        vertical-align: top;\n    }\n\n    .dataframe thead th {\n        text-align: right;\n    }\n</style>\n<table border=\"1\" class=\"dataframe\">\n  <thead>\n    <tr style=\"text-align: right;\">\n      <th></th>\n      <th>support</th>\n      <th>itemsets</th>\n    </tr>\n  </thead>\n  <tbody>\n    <tr>\n      <th>0</th>\n      <td>0.8</td>\n      <td>(Icecream)</td>\n    </tr>\n    <tr>\n      <th>1</th>\n      <td>0.7</td>\n      <td>(Chips)</td>\n    </tr>\n    <tr>\n      <th>2</th>\n      <td>0.6</td>\n      <td>(Bread)</td>\n    </tr>\n    <tr>\n      <th>3</th>\n      <td>0.8</td>\n      <td>(Tea)</td>\n    </tr>\n    <tr>\n      <th>4</th>\n      <td>0.6</td>\n      <td>(Chips, Icecream)</td>\n    </tr>\n    <tr>\n      <th>5</th>\n      <td>0.5</td>\n      <td>(Bread, Icecream)</td>\n    </tr>\n    <tr>\n      <th>6</th>\n      <td>0.6</td>\n      <td>(Tea, Icecream)</td>\n    </tr>\n    <tr>\n      <th>7</th>\n      <td>0.6</td>\n      <td>(Bread, Chips)</td>\n    </tr>\n    <tr>\n      <th>8</th>\n      <td>0.6</td>\n      <td>(Chips, Tea)</td>\n    </tr>\n    <tr>\n      <th>9</th>\n      <td>0.5</td>\n      <td>(Bread, Tea)</td>\n    </tr>\n    <tr>\n      <th>10</th>\n      <td>0.5</td>\n      <td>(Bread, Chips, Icecream)</td>\n    </tr>\n    <tr>\n      <th>11</th>\n      <td>0.5</td>\n      <td>(Tea, Chips, Icecream)</td>\n    </tr>\n    <tr>\n      <th>12</th>\n      <td>0.5</td>\n      <td>(Bread, Chips, Tea)</td>\n    </tr>\n  </tbody>\n</table>\n</div>"
     },
     "execution_count": 271,
     "metadata": {},
     "output_type": "execute_result"
    }
   ],
   "source": [
    "api = apriori(dataFrame, min_support=0.5,use_colnames = True)\n",
    "\n",
    "api"
   ],
   "metadata": {
    "collapsed": false,
    "pycharm": {
     "name": "#%%\n"
    }
   }
  },
  {
   "cell_type": "code",
   "execution_count": 272,
   "outputs": [
    {
     "data": {
      "text/plain": "          antecedents        consequents  antecedent support  \\\n4             (Bread)            (Chips)                 0.6   \n11  (Bread, Icecream)            (Chips)                 0.5   \n23       (Bread, Tea)            (Chips)                 0.5   \n5             (Chips)            (Bread)                 0.7   \n0             (Chips)         (Icecream)                 0.7   \n6             (Chips)              (Tea)                 0.7   \n12  (Chips, Icecream)            (Bread)                 0.6   \n13            (Bread)  (Chips, Icecream)                 0.6   \n24       (Chips, Tea)            (Bread)                 0.6   \n25            (Bread)       (Chips, Tea)                 0.6   \n17    (Icecream, Tea)            (Chips)                 0.6   \n2             (Bread)         (Icecream)                 0.6   \n8             (Bread)              (Tea)                 0.6   \n10     (Chips, Bread)         (Icecream)                 0.6   \n16       (Chips, Tea)         (Icecream)                 0.6   \n18  (Chips, Icecream)              (Tea)                 0.6   \n22     (Chips, Bread)              (Tea)                 0.6   \n1          (Icecream)            (Chips)                 0.8   \n7               (Tea)            (Chips)                 0.8   \n14            (Chips)  (Bread, Icecream)                 0.7   \n26            (Chips)       (Bread, Tea)                 0.7   \n20            (Chips)    (Icecream, Tea)                 0.7   \n3          (Icecream)            (Bread)                 0.8   \n9               (Tea)            (Bread)                 0.8   \n15         (Icecream)     (Chips, Bread)                 0.8   \n19              (Tea)  (Chips, Icecream)                 0.8   \n21         (Icecream)       (Chips, Tea)                 0.8   \n27              (Tea)     (Chips, Bread)                 0.8   \n\n    consequent support  support  confidence      lift  leverage  conviction  \n4                  0.7      0.6    1.000000  1.428571      0.18         inf  \n11                 0.7      0.5    1.000000  1.428571      0.15         inf  \n23                 0.7      0.5    1.000000  1.428571      0.15         inf  \n5                  0.6      0.6    0.857143  1.428571      0.18    2.800000  \n0                  0.8      0.6    0.857143  1.071429      0.04    1.400000  \n6                  0.8      0.6    0.857143  1.071429      0.04    1.400000  \n12                 0.6      0.5    0.833333  1.388889      0.14    2.400000  \n13                 0.6      0.5    0.833333  1.388889      0.14    2.400000  \n24                 0.6      0.5    0.833333  1.388889      0.14    2.400000  \n25                 0.6      0.5    0.833333  1.388889      0.14    2.400000  \n17                 0.7      0.5    0.833333  1.190476      0.08    1.800000  \n2                  0.8      0.5    0.833333  1.041667      0.02    1.200000  \n8                  0.8      0.5    0.833333  1.041667      0.02    1.200000  \n10                 0.8      0.5    0.833333  1.041667      0.02    1.200000  \n16                 0.8      0.5    0.833333  1.041667      0.02    1.200000  \n18                 0.8      0.5    0.833333  1.041667      0.02    1.200000  \n22                 0.8      0.5    0.833333  1.041667      0.02    1.200000  \n1                  0.7      0.6    0.750000  1.071429      0.04    1.200000  \n7                  0.7      0.6    0.750000  1.071429      0.04    1.200000  \n14                 0.5      0.5    0.714286  1.428571      0.15    1.750000  \n26                 0.5      0.5    0.714286  1.428571      0.15    1.750000  \n20                 0.6      0.5    0.714286  1.190476      0.08    1.400000  \n3                  0.6      0.5    0.625000  1.041667      0.02    1.066667  \n9                  0.6      0.5    0.625000  1.041667      0.02    1.066667  \n15                 0.6      0.5    0.625000  1.041667      0.02    1.066667  \n19                 0.6      0.5    0.625000  1.041667      0.02    1.066667  \n21                 0.6      0.5    0.625000  1.041667      0.02    1.066667  \n27                 0.6      0.5    0.625000  1.041667      0.02    1.066667  ",
      "text/html": "<div>\n<style scoped>\n    .dataframe tbody tr th:only-of-type {\n        vertical-align: middle;\n    }\n\n    .dataframe tbody tr th {\n        vertical-align: top;\n    }\n\n    .dataframe thead th {\n        text-align: right;\n    }\n</style>\n<table border=\"1\" class=\"dataframe\">\n  <thead>\n    <tr style=\"text-align: right;\">\n      <th></th>\n      <th>antecedents</th>\n      <th>consequents</th>\n      <th>antecedent support</th>\n      <th>consequent support</th>\n      <th>support</th>\n      <th>confidence</th>\n      <th>lift</th>\n      <th>leverage</th>\n      <th>conviction</th>\n    </tr>\n  </thead>\n  <tbody>\n    <tr>\n      <th>4</th>\n      <td>(Bread)</td>\n      <td>(Chips)</td>\n      <td>0.6</td>\n      <td>0.7</td>\n      <td>0.6</td>\n      <td>1.000000</td>\n      <td>1.428571</td>\n      <td>0.18</td>\n      <td>inf</td>\n    </tr>\n    <tr>\n      <th>11</th>\n      <td>(Bread, Icecream)</td>\n      <td>(Chips)</td>\n      <td>0.5</td>\n      <td>0.7</td>\n      <td>0.5</td>\n      <td>1.000000</td>\n      <td>1.428571</td>\n      <td>0.15</td>\n      <td>inf</td>\n    </tr>\n    <tr>\n      <th>23</th>\n      <td>(Bread, Tea)</td>\n      <td>(Chips)</td>\n      <td>0.5</td>\n      <td>0.7</td>\n      <td>0.5</td>\n      <td>1.000000</td>\n      <td>1.428571</td>\n      <td>0.15</td>\n      <td>inf</td>\n    </tr>\n    <tr>\n      <th>5</th>\n      <td>(Chips)</td>\n      <td>(Bread)</td>\n      <td>0.7</td>\n      <td>0.6</td>\n      <td>0.6</td>\n      <td>0.857143</td>\n      <td>1.428571</td>\n      <td>0.18</td>\n      <td>2.800000</td>\n    </tr>\n    <tr>\n      <th>0</th>\n      <td>(Chips)</td>\n      <td>(Icecream)</td>\n      <td>0.7</td>\n      <td>0.8</td>\n      <td>0.6</td>\n      <td>0.857143</td>\n      <td>1.071429</td>\n      <td>0.04</td>\n      <td>1.400000</td>\n    </tr>\n    <tr>\n      <th>6</th>\n      <td>(Chips)</td>\n      <td>(Tea)</td>\n      <td>0.7</td>\n      <td>0.8</td>\n      <td>0.6</td>\n      <td>0.857143</td>\n      <td>1.071429</td>\n      <td>0.04</td>\n      <td>1.400000</td>\n    </tr>\n    <tr>\n      <th>12</th>\n      <td>(Chips, Icecream)</td>\n      <td>(Bread)</td>\n      <td>0.6</td>\n      <td>0.6</td>\n      <td>0.5</td>\n      <td>0.833333</td>\n      <td>1.388889</td>\n      <td>0.14</td>\n      <td>2.400000</td>\n    </tr>\n    <tr>\n      <th>13</th>\n      <td>(Bread)</td>\n      <td>(Chips, Icecream)</td>\n      <td>0.6</td>\n      <td>0.6</td>\n      <td>0.5</td>\n      <td>0.833333</td>\n      <td>1.388889</td>\n      <td>0.14</td>\n      <td>2.400000</td>\n    </tr>\n    <tr>\n      <th>24</th>\n      <td>(Chips, Tea)</td>\n      <td>(Bread)</td>\n      <td>0.6</td>\n      <td>0.6</td>\n      <td>0.5</td>\n      <td>0.833333</td>\n      <td>1.388889</td>\n      <td>0.14</td>\n      <td>2.400000</td>\n    </tr>\n    <tr>\n      <th>25</th>\n      <td>(Bread)</td>\n      <td>(Chips, Tea)</td>\n      <td>0.6</td>\n      <td>0.6</td>\n      <td>0.5</td>\n      <td>0.833333</td>\n      <td>1.388889</td>\n      <td>0.14</td>\n      <td>2.400000</td>\n    </tr>\n    <tr>\n      <th>17</th>\n      <td>(Icecream, Tea)</td>\n      <td>(Chips)</td>\n      <td>0.6</td>\n      <td>0.7</td>\n      <td>0.5</td>\n      <td>0.833333</td>\n      <td>1.190476</td>\n      <td>0.08</td>\n      <td>1.800000</td>\n    </tr>\n    <tr>\n      <th>2</th>\n      <td>(Bread)</td>\n      <td>(Icecream)</td>\n      <td>0.6</td>\n      <td>0.8</td>\n      <td>0.5</td>\n      <td>0.833333</td>\n      <td>1.041667</td>\n      <td>0.02</td>\n      <td>1.200000</td>\n    </tr>\n    <tr>\n      <th>8</th>\n      <td>(Bread)</td>\n      <td>(Tea)</td>\n      <td>0.6</td>\n      <td>0.8</td>\n      <td>0.5</td>\n      <td>0.833333</td>\n      <td>1.041667</td>\n      <td>0.02</td>\n      <td>1.200000</td>\n    </tr>\n    <tr>\n      <th>10</th>\n      <td>(Chips, Bread)</td>\n      <td>(Icecream)</td>\n      <td>0.6</td>\n      <td>0.8</td>\n      <td>0.5</td>\n      <td>0.833333</td>\n      <td>1.041667</td>\n      <td>0.02</td>\n      <td>1.200000</td>\n    </tr>\n    <tr>\n      <th>16</th>\n      <td>(Chips, Tea)</td>\n      <td>(Icecream)</td>\n      <td>0.6</td>\n      <td>0.8</td>\n      <td>0.5</td>\n      <td>0.833333</td>\n      <td>1.041667</td>\n      <td>0.02</td>\n      <td>1.200000</td>\n    </tr>\n    <tr>\n      <th>18</th>\n      <td>(Chips, Icecream)</td>\n      <td>(Tea)</td>\n      <td>0.6</td>\n      <td>0.8</td>\n      <td>0.5</td>\n      <td>0.833333</td>\n      <td>1.041667</td>\n      <td>0.02</td>\n      <td>1.200000</td>\n    </tr>\n    <tr>\n      <th>22</th>\n      <td>(Chips, Bread)</td>\n      <td>(Tea)</td>\n      <td>0.6</td>\n      <td>0.8</td>\n      <td>0.5</td>\n      <td>0.833333</td>\n      <td>1.041667</td>\n      <td>0.02</td>\n      <td>1.200000</td>\n    </tr>\n    <tr>\n      <th>1</th>\n      <td>(Icecream)</td>\n      <td>(Chips)</td>\n      <td>0.8</td>\n      <td>0.7</td>\n      <td>0.6</td>\n      <td>0.750000</td>\n      <td>1.071429</td>\n      <td>0.04</td>\n      <td>1.200000</td>\n    </tr>\n    <tr>\n      <th>7</th>\n      <td>(Tea)</td>\n      <td>(Chips)</td>\n      <td>0.8</td>\n      <td>0.7</td>\n      <td>0.6</td>\n      <td>0.750000</td>\n      <td>1.071429</td>\n      <td>0.04</td>\n      <td>1.200000</td>\n    </tr>\n    <tr>\n      <th>14</th>\n      <td>(Chips)</td>\n      <td>(Bread, Icecream)</td>\n      <td>0.7</td>\n      <td>0.5</td>\n      <td>0.5</td>\n      <td>0.714286</td>\n      <td>1.428571</td>\n      <td>0.15</td>\n      <td>1.750000</td>\n    </tr>\n    <tr>\n      <th>26</th>\n      <td>(Chips)</td>\n      <td>(Bread, Tea)</td>\n      <td>0.7</td>\n      <td>0.5</td>\n      <td>0.5</td>\n      <td>0.714286</td>\n      <td>1.428571</td>\n      <td>0.15</td>\n      <td>1.750000</td>\n    </tr>\n    <tr>\n      <th>20</th>\n      <td>(Chips)</td>\n      <td>(Icecream, Tea)</td>\n      <td>0.7</td>\n      <td>0.6</td>\n      <td>0.5</td>\n      <td>0.714286</td>\n      <td>1.190476</td>\n      <td>0.08</td>\n      <td>1.400000</td>\n    </tr>\n    <tr>\n      <th>3</th>\n      <td>(Icecream)</td>\n      <td>(Bread)</td>\n      <td>0.8</td>\n      <td>0.6</td>\n      <td>0.5</td>\n      <td>0.625000</td>\n      <td>1.041667</td>\n      <td>0.02</td>\n      <td>1.066667</td>\n    </tr>\n    <tr>\n      <th>9</th>\n      <td>(Tea)</td>\n      <td>(Bread)</td>\n      <td>0.8</td>\n      <td>0.6</td>\n      <td>0.5</td>\n      <td>0.625000</td>\n      <td>1.041667</td>\n      <td>0.02</td>\n      <td>1.066667</td>\n    </tr>\n    <tr>\n      <th>15</th>\n      <td>(Icecream)</td>\n      <td>(Chips, Bread)</td>\n      <td>0.8</td>\n      <td>0.6</td>\n      <td>0.5</td>\n      <td>0.625000</td>\n      <td>1.041667</td>\n      <td>0.02</td>\n      <td>1.066667</td>\n    </tr>\n    <tr>\n      <th>19</th>\n      <td>(Tea)</td>\n      <td>(Chips, Icecream)</td>\n      <td>0.8</td>\n      <td>0.6</td>\n      <td>0.5</td>\n      <td>0.625000</td>\n      <td>1.041667</td>\n      <td>0.02</td>\n      <td>1.066667</td>\n    </tr>\n    <tr>\n      <th>21</th>\n      <td>(Icecream)</td>\n      <td>(Chips, Tea)</td>\n      <td>0.8</td>\n      <td>0.6</td>\n      <td>0.5</td>\n      <td>0.625000</td>\n      <td>1.041667</td>\n      <td>0.02</td>\n      <td>1.066667</td>\n    </tr>\n    <tr>\n      <th>27</th>\n      <td>(Tea)</td>\n      <td>(Chips, Bread)</td>\n      <td>0.8</td>\n      <td>0.6</td>\n      <td>0.5</td>\n      <td>0.625000</td>\n      <td>1.041667</td>\n      <td>0.02</td>\n      <td>1.066667</td>\n    </tr>\n  </tbody>\n</table>\n</div>"
     },
     "execution_count": 272,
     "metadata": {},
     "output_type": "execute_result"
    }
   ],
   "source": [
    "rules = association_rules(api, metric =\"lift\", min_threshold = 1)\n",
    "rules = rules.sort_values(['confidence', 'lift'], ascending =[False, False])\n",
    "rules"
   ],
   "metadata": {
    "collapsed": false,
    "pycharm": {
     "name": "#%%\n"
    }
   }
  },
  {
   "cell_type": "code",
   "execution_count": null,
   "outputs": [],
   "source": [],
   "metadata": {
    "collapsed": false,
    "pycharm": {
     "name": "#%%\n"
    }
   }
  }
 ],
 "metadata": {
  "kernelspec": {
   "display_name": "Python 3",
   "language": "python",
   "name": "python3"
  },
  "language_info": {
   "codemirror_mode": {
    "name": "ipython",
    "version": 2
   },
   "file_extension": ".py",
   "mimetype": "text/x-python",
   "name": "python",
   "nbconvert_exporter": "python",
   "pygments_lexer": "ipython2",
   "version": "2.7.6"
  }
 },
 "nbformat": 4,
 "nbformat_minor": 0
}